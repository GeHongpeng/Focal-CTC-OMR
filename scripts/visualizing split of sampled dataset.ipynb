{
 "cells": [
  {
   "cell_type": "code",
   "execution_count": null,
   "metadata": {},
   "outputs": [],
   "source": [
    "import pandas as pd"
   ]
  },
  {
   "cell_type": "code",
   "execution_count": null,
   "metadata": {},
   "outputs": [],
   "source": [
    "#To get the list of samples\n",
    "f = open(\"/home/jimitcard/Desktop/OMR/data/testing.txt\", 'r')\n",
    "testing_model=f.read().strip().split(\"\\n\")\n",
    "print(len(testing_model))\n",
    "f.close()"
   ]
  },
  {
   "cell_type": "code",
   "execution_count": null,
   "metadata": {},
   "outputs": [],
   "source": [
    "#To get the list of samples\n",
    "f = open(\"/home/jimitcard/Desktop/OMR/data/training.txt\", 'r')\n",
    "training=f.read().strip().split(\"\\n\")\n",
    "print(len(training))\n",
    "f.close()"
   ]
  },
  {
   "cell_type": "code",
   "execution_count": null,
   "metadata": {},
   "outputs": [],
   "source": [
    "#To get the list of samples\n",
    "f = open(\"/home/jimitcard/Desktop/OMR/data/imbalance_testing.txt\", 'r')\n",
    "evaluating_imbalance=f.read().strip().split(\"\\n\")\n",
    "print(len(evaluating_imbalance))\n",
    "f.close()"
   ]
  },
  {
   "cell_type": "code",
   "execution_count": null,
   "metadata": {},
   "outputs": [],
   "source": [
    "#To get the list of samples\n",
    "f = open(\"/home/jimitcard/Desktop/OMR/data/vocabulary_semantic.txt\", 'r')\n",
    "vocabulary=f.read().strip().split(\"\\n\")\n",
    "print(len(vocabulary))\n",
    "f.close()"
   ]
  },
  {
   "cell_type": "code",
   "execution_count": null,
   "metadata": {},
   "outputs": [],
   "source": [
    "#now create a pandas with samples and vocab and populate for frequency\n",
    "training_pd = pd.DataFrame(index=training, columns=vocabulary)\n",
    "training_pd = training_pd.fillna(0) # with 0s rather than NaNs\n",
    "for sample in training:\n",
    "    f = open(\"/home/jimitcard/Desktop/OMR/sampled_1250/\"+sample+\"/\"+sample+\".semantic\", \"r\")\n",
    "    notes=f.read().strip().split(\"\\t\")\n",
    "    for note in notes:\n",
    "        training_pd.loc[sample,note] +=1\n",
    "training_pd.head()\n",
    "frequency_of_notes=training_pd.sum(numeric_only=True, axis = 0, skipna = True) \n",
    "training_list=frequency_of_notes.sort_values(axis=0, ascending=False, inplace=False, kind='quicksort', na_position='last')\n",
    "training_list"
   ]
  },
  {
   "cell_type": "code",
   "execution_count": 24,
   "metadata": {},
   "outputs": [
    {
     "data": {
      "text/plain": [
       "count     60.000000\n",
       "mean     105.350000\n",
       "std      125.757613\n",
       "min       10.000000\n",
       "25%       26.750000\n",
       "50%       62.000000\n",
       "75%      147.000000\n",
       "max      788.000000\n",
       "dtype: float64"
      ]
     },
     "execution_count": 24,
     "metadata": {},
     "output_type": "execute_result"
    }
   ],
   "source": [
    "#now create a pandas with samples and vocab and populate for frequency\n",
    "testing_model_pd = pd.DataFrame(index=testing_model, columns=vocabulary)\n",
    "testing_model_pd = testing_model_pd.fillna(0) # with 0s rather than NaNs\n",
    "for sample in testing_model:\n",
    "    f = open(\"/home/jimitcard/Desktop/OMR/sampled_1250/\"+sample+\"/\"+sample+\".semantic\", \"r\")\n",
    "    notes=f.read().strip().split(\"\\t\")\n",
    "    for note in notes:\n",
    "        testing_model_pd.loc[sample,note] +=1\n",
    "testing_model_pd.head()\n",
    "frequency_of_notes=testing_model_pd.sum(numeric_only=True, axis = 0, skipna = True) \n",
    "testing_model_list=frequency_of_notes.sort_values(axis=0, ascending=False, inplace=False, kind='quicksort', na_position='last')\n",
    "testing_model_list.describe()"
   ]
  },
  {
   "cell_type": "code",
   "execution_count": 23,
   "metadata": {},
   "outputs": [
    {
     "data": {
      "text/plain": [
       "count     60.000000\n",
       "mean      82.883333\n",
       "std       88.141276\n",
       "min       11.000000\n",
       "25%       27.500000\n",
       "50%       61.500000\n",
       "75%      115.250000\n",
       "max      559.000000\n",
       "dtype: float64"
      ]
     },
     "execution_count": 23,
     "metadata": {},
     "output_type": "execute_result"
    }
   ],
   "source": [
    "#now create a pandas with samples and vocab and populate for frequency\n",
    "evaluating_imbalance_pd = pd.DataFrame(index=evaluating_imbalance, columns=vocabulary)\n",
    "evaluating_imbalance_pd = evaluating_imbalance_pd.fillna(0) # with 0s rather than NaNs\n",
    "for sample in evaluating_imbalance:\n",
    "    f = open(\"/home/jimitcard/Desktop/OMR/dataset/primusCalvoRizoAppliedSciences2018/package_ab/\"+sample+\"/\"+sample+\".semantic\", \"r\")\n",
    "    notes=f.read().strip().split(\"\\t\")\n",
    "    for note in notes:\n",
    "        evaluating_imbalance_pd.loc[sample,note] +=1\n",
    "evaluating_imbalance_pd.head()\n",
    "frequency_of_notes=evaluating_imbalance_pd.sum(numeric_only=True, axis = 0, skipna = True) \n",
    "evaluating_imbalance_list=frequency_of_notes.sort_values(axis=0, ascending=False, inplace=False, kind='quicksort', na_position='last')\n",
    "evaluating_imbalance_list.describe()"
   ]
  },
  {
   "cell_type": "code",
   "execution_count": null,
   "metadata": {},
   "outputs": [],
   "source": [
    "frequency_pd = pd.DataFrame(index=training_list.index, columns=['training','testing_model','evaluating_imbalance'])\n",
    "frequency_pd = frequency_pd.fillna(0) # with 0s rather than NaNs\n",
    "frequency_pd"
   ]
  },
  {
   "cell_type": "code",
   "execution_count": null,
   "metadata": {},
   "outputs": [],
   "source": [
    "i=0\n",
    "for note in training_list.index:\n",
    "    print(note)\n",
    "    print(training_list[i])\n",
    "    i=i+1\n",
    "    "
   ]
  },
  {
   "cell_type": "code",
   "execution_count": null,
   "metadata": {},
   "outputs": [],
   "source": [
    "i=0\n",
    "for note in training_list.index:\n",
    "    frequency_pd.loc[note,'training'] +=training_list[i]\n",
    "    i=i+1\n",
    "frequency_pd"
   ]
  },
  {
   "cell_type": "code",
   "execution_count": null,
   "metadata": {
    "scrolled": true
   },
   "outputs": [],
   "source": [
    "i=0\n",
    "for note in testing_model_list.index:\n",
    "    frequency_pd.loc[note,'testing_model'] +=testing_model_list[i]\n",
    "    i=i+1\n",
    "frequency_pd"
   ]
  },
  {
   "cell_type": "code",
   "execution_count": null,
   "metadata": {},
   "outputs": [],
   "source": [
    "i=0\n",
    "for note in evaluating_imbalance_list.index:\n",
    "    frequency_pd.loc[note,'evaluating_imbalance'] +=evaluating_imbalance_list[i]\n",
    "    i=i+1\n",
    "frequency_pd"
   ]
  },
  {
   "cell_type": "code",
   "execution_count": null,
   "metadata": {},
   "outputs": [],
   "source": [
    "#plotting bar graph with bins of different colors\n",
    "%matplotlib inline \n",
    "\n",
    "import matplotlib as mpl\n",
    "import matplotlib.pyplot as plt\n",
    "\n",
    "print ('Matplotlib version: ', mpl.__version__) # >= 2.0.0"
   ]
  },
  {
   "cell_type": "code",
   "execution_count": null,
   "metadata": {},
   "outputs": [],
   "source": []
  },
  {
   "cell_type": "code",
   "execution_count": null,
   "metadata": {},
   "outputs": [],
   "source": [
    "f, ax = plt.subplots(figsize=(18,5)) # set the size that you'd like (width, height)\n",
    "frequency_pd['training'].plot(kind='line',label='Training Dataset')\n",
    "frequency_pd['testing_model'].plot(kind='line',label='Testing Dataset')\n",
    "frequency_pd['evaluating_imbalance'].plot(kind='line',label='Imbalance Evaluating Dataset')\n",
    "\n",
    "\n",
    "plt.title('Frequency Distribution of Notes in Sampled Dataset')\n",
    "plt.ylabel('Frequency (log scale)')\n",
    "plt.xlabel('Notes')\n",
    "plt.xticks([])\n",
    "\n",
    "\n",
    "#plt.savefig('frequencyVsNotes.png')\n",
    "#plt.plot([5,0], [5,4500], 'k-')\n",
    "plt.yscale('log')\n",
    "plt.legend()\n",
    "#plt.fill(np_zeros,frequency_pd['evaluating_imbalance'],facecolor='green',interpolate=True)\n",
    "plt.fill_between(np_zeros,frequency_pd['training'])\n",
    "#median\n",
    "#10-90\n",
    "plt.show()"
   ]
  },
  {
   "cell_type": "code",
   "execution_count": null,
   "metadata": {},
   "outputs": [],
   "source": [
    "SMALL_SIZE = 16\n",
    "MEDIUM_SIZE = 9\n",
    "BIGGER_SIZE = 14\n",
    "\n",
    "plt.rc('font', size=SMALL_SIZE)          # controls default text sizes\n",
    "plt.rc('axes', titlesize=SMALL_SIZE)     # fontsize of the axes title\n",
    "plt.rc('axes', labelsize=BIGGER_SIZE)    # fontsize of the x and y labels\n",
    "plt.rc('xtick', labelsize=MEDIUM_SIZE)    # fontsize of the tick labels\n",
    "plt.rc('ytick', labelsize=MEDIUM_SIZE)    # fontsize of the tick labels\n",
    "plt.rc('legend', fontsize=SMALL_SIZE)    # legend fontsize\n",
    "plt.rc('figure', titlesize=BIGGER_SIZE)  # fontsize of the figure title"
   ]
  },
  {
   "cell_type": "code",
   "execution_count": null,
   "metadata": {},
   "outputs": [],
   "source": [
    "f, ax = plt.subplots(figsize=(15,5)) # set the size that you'd like (width, height)\n",
    "x = range(0,60)\n",
    "plt.plot(x,frequency_pd['training'],lw=2,label='Training Dataset')\n",
    "plt.fill_between(x,frequency_pd['training'],0,alpha=0.1)\n",
    "plt.plot(x,frequency_pd['testing_model'],lw=2,label='Testing Dataset for Model')\n",
    "plt.fill_between(x,frequency_pd['testing_model'],0,alpha=0.1)\n",
    "plt.plot(x,frequency_pd['evaluating_imbalance'],lw=2,label='Evaluating Imbalance in Dataset')\n",
    "plt.fill_between(x,frequency_pd['evaluating_imbalance'],0,alpha=0.5)\n",
    "plt.yscale('log')\n",
    "\n",
    "plt.title('Frequency Distribution of Notes in Sampled Dataset')\n",
    "plt.ylabel('Frequency (log scale)')\n",
    "plt.xlabel('Notes')\n",
    "plt.xticks([])\n",
    "plt.legend()\n",
    "\n",
    "plt.savefig('SampledDatasetDistributionImbalance.png')\n",
    "plt.show()\n"
   ]
  }
 ],
 "metadata": {
  "kernelspec": {
   "display_name": "Python 2",
   "language": "python",
   "name": "python2"
  },
  "language_info": {
   "codemirror_mode": {
    "name": "ipython",
    "version": 2
   },
   "file_extension": ".py",
   "mimetype": "text/x-python",
   "name": "python",
   "nbconvert_exporter": "python",
   "pygments_lexer": "ipython2",
   "version": "2.7.12"
  }
 },
 "nbformat": 4,
 "nbformat_minor": 2
}
