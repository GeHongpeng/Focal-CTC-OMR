{
 "cells": [
  {
   "cell_type": "code",
   "execution_count": null,
   "metadata": {},
   "outputs": [],
   "source": [
    "import pandas as pd"
   ]
  },
  {
   "cell_type": "code",
   "execution_count": null,
   "metadata": {},
   "outputs": [],
   "source": [
    "root_dir_ab=\"/home/jimitcard/Desktop/OMR/dataset/primusCalvoRizoAppliedSciences2018/package_ab/\""
   ]
  },
  {
   "cell_type": "code",
   "execution_count": null,
   "metadata": {},
   "outputs": [],
   "source": [
    "f = open(\"/home/jimitcard/Desktop/OMR/dataset/primusCalvoRizoAppliedSciences2018/package_ab/ab_list.txt\", \"r\")\n",
    "samples_ab=f.read().strip().split(\"\\n\")\n",
    "f.close()\n",
    "print(len(samples_ab))"
   ]
  },
  {
   "cell_type": "code",
   "execution_count": null,
   "metadata": {},
   "outputs": [],
   "source": [
    "#for reading and storing vocabulary in list\n",
    "f = open(\"/home/jimitcard/Desktop/OMR/data/vocabulary_semantic.txt\", \"r\")\n",
    "vocabulary=f.read().strip().split(\"\\n\")\n",
    "f.close()\n",
    "print(len(vocabulary))"
   ]
  },
  {
   "cell_type": "code",
   "execution_count": null,
   "metadata": {},
   "outputs": [],
   "source": [
    "set_vocabulary=set(vocabulary)\n",
    "set_vocabulary"
   ]
  },
  {
   "cell_type": "code",
   "execution_count": null,
   "metadata": {},
   "outputs": [],
   "source": [
    "#for package_ab\n",
    "sample_list=[]\n",
    "for sample in samples_ab:\n",
    "    f = open(root_dir_ab+sample+\"/\"+sample+\".semantic\", \"r\")\n",
    "    #print(root_dir+sample+\"/\"+sample+\".semantic\")\n",
    "    data=f.read().strip().split(\"\\t\")\n",
    "    #print(data)\n",
    "    flag=True\n",
    "    for note in data:\n",
    "        if not (note in set_vocabulary):\n",
    "            flag=False\n",
    "           #print(note)\n",
    "    #print(flag)\n",
    "    if flag!=False:\n",
    "        print('add this element '+sample)\n",
    "        sample_list.append(sample)\n",
    "len(sample_list)"
   ]
  },
  {
   "cell_type": "code",
   "execution_count": null,
   "metadata": {},
   "outputs": [],
   "source": [
    "vocabulary=list(vocabulary)\n",
    "vocabulary"
   ]
  },
  {
   "cell_type": "code",
   "execution_count": null,
   "metadata": {},
   "outputs": [],
   "source": [
    "#now create a pandas with samples and vocab and populate for frequency\n",
    "sample_1234 = pd.DataFrame(index=sample_list, columns=vocabulary)\n",
    "sample_1234 = sample_1234.fillna(0) # with 0s rather than NaNs\n",
    "for sample in sample_list:\n",
    "    f = open(root_dir_ab+sample+\"/\"+sample+\".semantic\", \"r\")\n",
    "    #print(root_dir+sample+\"/\"+sample+\".semantic\")\n",
    "    notes=f.read().strip().split(\"\\t\")\n",
    "    for note in notes:\n",
    "        sample_1234.loc[sample,note] +=1\n",
    "print(sample_1234.shape)\n",
    "frequency_of_notes=sample_1234.sum(numeric_only=True, axis = 0, skipna = True) \n",
    "sorted_frequency=frequency_of_notes.sort_values(axis=0, ascending=False, inplace=False, kind='quicksort', na_position='last')\n",
    "print(sorted_frequency)\n",
    "sorted_frequency.describe()"
   ]
  },
  {
   "cell_type": "code",
   "execution_count": null,
   "metadata": {},
   "outputs": [],
   "source": [
    "add_list=[]\n",
    "\n",
    "add_note_list=['tie','multirest-1','timeSignature-C/','note-C4_eighth','note-Eb4_eighth','note-Ab4_sixteenth']\n",
    "#add the list of 6 notes\n",
    "#run them in a for loop\n",
    "for add_note in add_note_list:\n",
    "    for sample in sample_list:\n",
    "        if sample_1234.loc[sample,add_note]>=1:\n",
    "            add_list.append(sample)\n",
    "len(set((add_list)))\n",
    "#then set them\n"
   ]
  },
  {
   "cell_type": "code",
   "execution_count": null,
   "metadata": {},
   "outputs": [],
   "source": [
    "print(len(add_list))\n",
    "add_list=set(add_list)\n",
    "add_list=list(add_list)\n",
    "print(len(add_list))"
   ]
  },
  {
   "cell_type": "code",
   "execution_count": null,
   "metadata": {},
   "outputs": [],
   "source": [
    "drop_list=[]\n",
    "#remove where barline is more than 3\n",
    "for sample in add_list:\n",
    "    if sample_1234.loc[sample,'barline']>=3:\n",
    "        drop_list.append(sample)\n",
    "print(len(drop_list))\n",
    "add_list = [x for x in add_list if x not in drop_list]\n",
    "print(len(add_list))"
   ]
  },
  {
   "cell_type": "code",
   "execution_count": null,
   "metadata": {},
   "outputs": [],
   "source": [
    "#now create a pandas with samples and vocab and populate for frequency\n",
    "sample_136 = pd.DataFrame(index=add_list, columns=vocabulary)\n",
    "sample_136 = sample_136.fillna(0) # with 0s rather than NaNs\n",
    "for sample in add_list:\n",
    "    f = open(root_dir_ab+sample+\"/\"+sample+\".semantic\", \"r\")\n",
    "    #print(root_dir+sample+\"/\"+sample+\".semantic\")\n",
    "    notes=f.read().strip().split(\"\\t\")\n",
    "    for note in notes:\n",
    "        sample_136.loc[sample,note] +=1\n",
    "print(sample_136.shape)\n",
    "frequency_of_notes=sample_136.sum(numeric_only=True, axis = 0, skipna = True) \n",
    "sorted_frequency=frequency_of_notes.sort_values(axis=0, ascending=False, inplace=False, kind='quicksort', na_position='last')\n",
    "print(sorted_frequency)\n",
    "sorted_frequency.describe()"
   ]
  },
  {
   "cell_type": "code",
   "execution_count": null,
   "metadata": {},
   "outputs": [],
   "source": [
    "add_note_list=['timeSignature-6/8','timeSignature-3/8','timeSignature-3/4']\n",
    "#add the list of 6 notes\n",
    "#run them in a for loop\n",
    "for add_note in add_note_list:\n",
    "    for sample in sample_list:\n",
    "        if sample_1234.loc[sample,add_note]>=1:\n",
    "            add_list.append(sample)\n",
    "len(set((add_list)))"
   ]
  },
  {
   "cell_type": "code",
   "execution_count": null,
   "metadata": {},
   "outputs": [],
   "source": [
    "print(len(add_list))\n",
    "add_list=set(add_list)\n",
    "add_list=list(add_list)\n",
    "print(len(add_list))"
   ]
  },
  {
   "cell_type": "code",
   "execution_count": null,
   "metadata": {},
   "outputs": [],
   "source": [
    "#### drop_list=[]\n",
    "#remove where barline is more than 3\n",
    "for sample in add_list:\n",
    "    if sample_1234.loc[sample,'barline']>=3:\n",
    "        drop_list.append(sample)\n",
    "print(len(drop_list))\n",
    "add_list = [x for x in add_list if x not in drop_list]\n",
    "print(len(add_list))"
   ]
  },
  {
   "cell_type": "code",
   "execution_count": null,
   "metadata": {},
   "outputs": [],
   "source": [
    "#now create a pandas with samples and vocab and populate for frequency\n",
    "sample_196 = pd.DataFrame(index=add_list, columns=vocabulary)\n",
    "sample_196 = sample_196.fillna(0) # with 0s rather than NaNs\n",
    "for sample in add_list:\n",
    "    f = open(root_dir_ab+sample+\"/\"+sample+\".semantic\", \"r\")\n",
    "    #print(root_dir+sample+\"/\"+sample+\".semantic\")\n",
    "    notes=f.read().strip().split(\"\\t\")\n",
    "    for note in notes:\n",
    "        sample_196.loc[sample,note] +=1\n",
    "print(sample_196.shape)\n",
    "frequency_of_notes=sample_196.sum(numeric_only=True, axis = 0, skipna = True) \n",
    "sorted_frequency=frequency_of_notes.sort_values(axis=0, ascending=False, inplace=False, kind='quicksort', na_position='last')\n",
    "print(sorted_frequency)\n",
    "sorted_frequency.describe()"
   ]
  },
  {
   "cell_type": "code",
   "execution_count": null,
   "metadata": {},
   "outputs": [],
   "source": [
    "add_note_list=['timeSignature-2/4','timeSignature-3/8','rest-half','multirest-1','note-B4_quarter']\n",
    "#add the list of 6 notes\n",
    "#run them in a for loop\n",
    "for add_note in add_note_list:\n",
    "    for sample in sample_list:\n",
    "        if sample_1234.loc[sample,add_note]>=3:\n",
    "            add_list.append(sample)\n",
    "len(set((add_list)))\n",
    "print(len(add_list))\n",
    "add_list=set(add_list)\n",
    "add_list=list(add_list)\n",
    "print(len(add_list))"
   ]
  },
  {
   "cell_type": "code",
   "execution_count": null,
   "metadata": {},
   "outputs": [],
   "source": [
    "#now create a pandas with samples and vocab and populate for frequency\n",
    "sample_238 = pd.DataFrame(index=add_list, columns=vocabulary)\n",
    "sample_238 = sample_238.fillna(0) # with 0s rather than NaNs\n",
    "for sample in add_list:\n",
    "    f = open(root_dir_ab+sample+\"/\"+sample+\".semantic\", \"r\")\n",
    "    #print(root_dir+sample+\"/\"+sample+\".semantic\")\n",
    "    notes=f.read().strip().split(\"\\t\")\n",
    "    for note in notes:\n",
    "        sample_238.loc[sample,note] +=1\n",
    "print(sample_238.shape)\n",
    "frequency_of_notes=sample_238.sum(numeric_only=True, axis = 0, skipna = True) \n",
    "sorted_frequency=frequency_of_notes.sort_values(axis=0, ascending=False, inplace=False, kind='quicksort', na_position='last')\n",
    "print(sorted_frequency)\n",
    "sorted_frequency.describe()"
   ]
  },
  {
   "cell_type": "code",
   "execution_count": null,
   "metadata": {},
   "outputs": [],
   "source": [
    "add_note_list=['multirest-1']\n",
    "#add the list of 6 notes\n",
    "#run them in a for loop\n",
    "for add_note in add_note_list:\n",
    "    for sample in sample_list:\n",
    "        if sample_1234.loc[sample,add_note]>=2:\n",
    "            add_list.append(sample)\n",
    "len(set((add_list)))\n",
    "print(len(add_list))\n",
    "add_list=set(add_list)\n",
    "add_list=list(add_list)\n",
    "print(len(add_list))"
   ]
  },
  {
   "cell_type": "code",
   "execution_count": null,
   "metadata": {},
   "outputs": [],
   "source": [
    "add_note_list=['timeSignature-2/4']\n",
    "#add the list of 6 notes\n",
    "#run them in a for loop\n",
    "for add_note in add_note_list:\n",
    "    for sample in sample_list:\n",
    "        if sample_1234.loc[sample,add_note]>=1:\n",
    "            add_list.append(sample)\n",
    "len(set((add_list)))\n",
    "print(len(add_list))\n",
    "add_list=set(add_list)\n",
    "add_list=list(add_list)\n",
    "print(len(add_list))"
   ]
  },
  {
   "cell_type": "code",
   "execution_count": null,
   "metadata": {},
   "outputs": [],
   "source": [
    "add_note_list=['timeSignature-3/8']\n",
    "#add the list of 6 notes\n",
    "#run them in a for loop\n",
    "for add_note in add_note_list:\n",
    "    for sample in sample_list:\n",
    "        if sample_1234.loc[sample,add_note]>=1:\n",
    "            add_list.append(sample)\n",
    "len(set((add_list)))\n",
    "print(len(add_list))\n",
    "add_list=set(add_list)\n",
    "add_list=list(add_list)\n",
    "print(len(add_list))"
   ]
  },
  {
   "cell_type": "code",
   "execution_count": null,
   "metadata": {},
   "outputs": [],
   "source": [
    "add_note_list=['multirest-1']\n",
    "#add the list of 6 notes\n",
    "#run them in a for loop\n",
    "for add_note in add_note_list:\n",
    "    for sample in sample_list:\n",
    "        if sample_1234.loc[sample,add_note]>=1:\n",
    "            add_list.append(sample)\n",
    "len(set((add_list)))\n",
    "print(len(add_list))\n",
    "add_list=set(add_list)\n",
    "add_list=list(add_list)\n",
    "print(len(add_list))"
   ]
  },
  {
   "cell_type": "code",
   "execution_count": null,
   "metadata": {},
   "outputs": [],
   "source": [
    "drop_list=[]\n",
    "#remove where barline is more than 3\n",
    "for sample in add_list:\n",
    "    if sample_1234.loc[sample,'barline']>=4:\n",
    "        drop_list.append(sample)\n",
    "print(len(drop_list))\n",
    "add_list = [x for x in add_list if x not in drop_list]\n",
    "print(len(add_list))"
   ]
  },
  {
   "cell_type": "code",
   "execution_count": null,
   "metadata": {},
   "outputs": [],
   "source": [
    "#now create a pandas with samples and vocab and populate for frequency\n",
    "sample_306 = pd.DataFrame(index=add_list, columns=vocabulary)\n",
    "sample_306 = sample_306.fillna(0) # with 0s rather than NaNs\n",
    "for sample in add_list:\n",
    "    f = open(root_dir_ab+sample+\"/\"+sample+\".semantic\", \"r\")\n",
    "    #print(root_dir+sample+\"/\"+sample+\".semantic\")\n",
    "    notes=f.read().strip().split(\"\\t\")\n",
    "    for note in notes:\n",
    "        sample_306.loc[sample,note] +=1\n",
    "print(sample_306.shape)\n",
    "frequency_of_notes=sample_306.sum(numeric_only=True, axis = 0, skipna = True) \n",
    "sorted_frequency=frequency_of_notes.sort_values(axis=0, ascending=False, inplace=False, kind='quicksort', na_position='last')\n",
    "print(sorted_frequency)\n",
    "sorted_frequency.describe()"
   ]
  },
  {
   "cell_type": "code",
   "execution_count": null,
   "metadata": {},
   "outputs": [],
   "source": [
    "add_note_list=['multirest-1']\n",
    "#add the list of 6 notes\n",
    "#run them in a for loop\n",
    "for add_note in add_note_list:\n",
    "    for sample in sample_list:\n",
    "        if sample_1234.loc[sample,add_note]>=1:\n",
    "            add_list.append(sample)\n",
    "len(set((add_list)))\n",
    "print(len(add_list))\n",
    "add_list=set(add_list)\n",
    "add_list=list(add_list)\n",
    "print(len(add_list))"
   ]
  },
  {
   "cell_type": "code",
   "execution_count": null,
   "metadata": {},
   "outputs": [],
   "source": [
    "#now create a pandas with samples and vocab and populate for frequency\n",
    "sample_332 = pd.DataFrame(index=add_list, columns=vocabulary)\n",
    "sample_332 = sample_332.fillna(0) # with 0s rather than NaNs\n",
    "for sample in add_list:\n",
    "    f = open(root_dir_ab+sample+\"/\"+sample+\".semantic\", \"r\")\n",
    "    #print(root_dir+sample+\"/\"+sample+\".semantic\")\n",
    "    notes=f.read().strip().split(\"\\t\")\n",
    "    for note in notes:\n",
    "        sample_332.loc[sample,note] +=1\n",
    "print(sample_332.shape)\n",
    "frequency_of_notes=sample_332.sum(numeric_only=True, axis = 0, skipna = True) \n",
    "sorted_frequency=frequency_of_notes.sort_values(axis=0, ascending=False, inplace=False, kind='quicksort', na_position='last')\n",
    "print(sorted_frequency)\n",
    "sorted_frequency.describe()"
   ]
  },
  {
   "cell_type": "code",
   "execution_count": null,
   "metadata": {},
   "outputs": [],
   "source": [
    "drop_list=[]\n",
    "#remove where barline is more than 3\n",
    "for sample in add_list:\n",
    "    if sample_1234.loc[sample,'barline']>=5:\n",
    "        drop_list.append(sample)\n",
    "print(len(drop_list))\n",
    "add_list = [x for x in add_list if x not in drop_list]\n",
    "print(len(add_list))"
   ]
  },
  {
   "cell_type": "code",
   "execution_count": null,
   "metadata": {},
   "outputs": [],
   "source": [
    "#now create a pandas with samples and vocab and populate for frequency\n",
    "sample_315 = pd.DataFrame(index=add_list, columns=vocabulary)\n",
    "sample_315 = sample_315.fillna(0) # with 0s rather than NaNs\n",
    "for sample in add_list:\n",
    "    f = open(root_dir_ab+sample+\"/\"+sample+\".semantic\", \"r\")\n",
    "    #print(root_dir+sample+\"/\"+sample+\".semantic\")\n",
    "    notes=f.read().strip().split(\"\\t\")\n",
    "    for note in notes:\n",
    "        sample_315.loc[sample,note] +=1\n",
    "print(sample_315.shape)\n",
    "frequency_of_notes=sample_315.sum(numeric_only=True, axis = 0, skipna = True) \n",
    "sorted_frequency=frequency_of_notes.sort_values(axis=0, ascending=False, inplace=False, kind='quicksort', na_position='last')\n",
    "print(sorted_frequency)\n",
    "sorted_frequency.describe()"
   ]
  },
  {
   "cell_type": "code",
   "execution_count": null,
   "metadata": {},
   "outputs": [],
   "source": [
    "add_note_list=['rest-half']\n",
    "#add the list of 6 notes\n",
    "#run them in a for loop\n",
    "for add_note in add_note_list:\n",
    "    for sample in sample_list:\n",
    "        if sample_1234.loc[sample,add_note]>=2:\n",
    "            add_list.append(sample)\n",
    "len(set((add_list)))\n",
    "print(len(add_list))\n",
    "add_list=set(add_list)\n",
    "add_list=list(add_list)\n",
    "print(len(add_list))"
   ]
  },
  {
   "cell_type": "code",
   "execution_count": null,
   "metadata": {},
   "outputs": [],
   "source": [
    "#now create a pandas with samples and vocab and populate for frequency\n",
    "sample_321 = pd.DataFrame(index=add_list, columns=vocabulary)\n",
    "sample_321 = sample_321.fillna(0) # with 0s rather than NaNs\n",
    "for sample in add_list:\n",
    "    f = open(root_dir_ab+sample+\"/\"+sample+\".semantic\", \"r\")\n",
    "    #print(root_dir+sample+\"/\"+sample+\".semantic\")\n",
    "    notes=f.read().strip().split(\"\\t\")\n",
    "    for note in notes:\n",
    "        sample_321.loc[sample,note] +=1\n",
    "print(sample_321.shape)\n",
    "frequency_of_notes=sample_321.sum(numeric_only=True, axis = 0, skipna = True) \n",
    "sorted_frequency=frequency_of_notes.sort_values(axis=0, ascending=False, inplace=False, kind='quicksort', na_position='last')\n",
    "print(sorted_frequency)\n",
    "sorted_frequency.describe()"
   ]
  },
  {
   "cell_type": "code",
   "execution_count": null,
   "metadata": {},
   "outputs": [],
   "source": [
    "add_note_list=['multirest-1']\n",
    "#add the list of 6 notes\n",
    "#run them in a for loop\n",
    "for add_note in add_note_list:\n",
    "    for sample in sample_list:\n",
    "        if sample_1234.loc[sample,add_note]>=1:\n",
    "            add_list.append(sample)\n",
    "len(set((add_list)))\n",
    "print(len(add_list))\n",
    "add_list=set(add_list)\n",
    "add_list=list(add_list)\n",
    "print(len(add_list))"
   ]
  },
  {
   "cell_type": "code",
   "execution_count": null,
   "metadata": {},
   "outputs": [],
   "source": [
    "#now create a pandas with samples and vocab and populate for frequency\n",
    "sample_336 = pd.DataFrame(index=add_list, columns=vocabulary)\n",
    "sample_336 = sample_336.fillna(0) # with 0s rather than NaNs\n",
    "for sample in add_list:\n",
    "    f = open(root_dir_ab+sample+\"/\"+sample+\".semantic\", \"r\")\n",
    "    #print(root_dir+sample+\"/\"+sample+\".semantic\")\n",
    "    notes=f.read().strip().split(\"\\t\")\n",
    "    for note in notes:\n",
    "        sample_336.loc[sample,note] +=1\n",
    "print(sample_336.shape)\n",
    "frequency_of_notes=sample_336.sum(numeric_only=True, axis = 0, skipna = True) \n",
    "sorted_frequency=frequency_of_notes.sort_values(axis=0, ascending=False, inplace=False, kind='quicksort', na_position='last')\n",
    "print(sorted_frequency)\n",
    "sorted_frequency.describe()"
   ]
  },
  {
   "cell_type": "code",
   "execution_count": null,
   "metadata": {},
   "outputs": [],
   "source": [
    "drop_list=[]\n",
    "#remove where barline is more than 3\n",
    "for sample in add_list:\n",
    "    if sample_1234.loc[sample,'barline']>=5:\n",
    "        drop_list.append(sample)\n",
    "print(len(drop_list))\n",
    "add_list = [x for x in add_list if x not in drop_list]\n",
    "print(len(add_list))"
   ]
  },
  {
   "cell_type": "code",
   "execution_count": 109,
   "metadata": {},
   "outputs": [],
   "source": [
    "add_list319=add_list"
   ]
  },
  {
   "cell_type": "code",
   "execution_count": 104,
   "metadata": {},
   "outputs": [
    {
     "name": "stdout",
     "output_type": "stream",
     "text": [
      "(319, 60)\n",
      "barline               707\n",
      "note-C5_eighth        400\n",
      "note-C5_sixteenth     387\n",
      "note-D5_sixteenth     301\n",
      "note-D5_eighth        261\n",
      "note-G4_sixteenth     251\n",
      "clef-G2               226\n",
      "rest-eighth           216\n",
      "note-E5_sixteenth     202\n",
      "note-Bb4_sixteenth    190\n",
      "note-F5_sixteenth     189\n",
      "note-Bb4_eighth       186\n",
      "note-A4_sixteenth     181\n",
      "note-G4_eighth        177\n",
      "note-B4_sixteenth     157\n",
      "note-F4_sixteenth     156\n",
      "note-G5_sixteenth     155\n",
      "note-F5_eighth        137\n",
      "note-E5_eighth        132\n",
      "note-A4_eighth        131\n",
      "note-F4_eighth        118\n",
      "note-B4_eighth        103\n",
      "note-Eb5_eighth        99\n",
      "note-C5_quarter        93\n",
      "note-Eb5_sixteenth     93\n",
      "clef-C1                93\n",
      "note-G5_eighth         92\n",
      "timeSignature-C/       89\n",
      "timeSignature-2/4      87\n",
      "keySignature-FM        83\n",
      "note-D4_sixteenth      77\n",
      "note-Eb4_sixteenth     75\n",
      "rest-quarter           70\n",
      "note-E4_sixteenth      64\n",
      "keySignature-EbM       57\n",
      "rest-sixteenth         54\n",
      "timeSignature-C        53\n",
      "keySignature-BbM       53\n",
      "timeSignature-3/4      49\n",
      "note-A5_sixteenth      45\n",
      "note-Eb4_eighth        45\n",
      "note-C4_sixteenth      43\n",
      "note-Ab4_sixteenth     41\n",
      "note-C4_eighth         41\n",
      "note-Ab4_eighth        40\n",
      "tie                    33\n",
      "note-B4_quarter        30\n",
      "note-E5_quarter        29\n",
      "keySignature-GM        28\n",
      "note-F5_quarter        27\n",
      "note-A4_quarter        27\n",
      "note-G4_quarter        27\n",
      "timeSignature-3/8      25\n",
      "note-F4_quarter        22\n",
      "note-Bb4_quarter       22\n",
      "multirest-1            18\n",
      "timeSignature-6/8      16\n",
      "rest-half              16\n",
      "note-G5_quarter        15\n",
      "note-A5_eighth         15\n",
      "dtype: int64\n"
     ]
    },
    {
     "data": {
      "text/plain": [
       "count     60.00000\n",
       "mean     114.15000\n",
       "std      118.63158\n",
       "min       15.00000\n",
       "25%       38.25000\n",
       "50%       80.00000\n",
       "75%      156.25000\n",
       "max      707.00000\n",
       "dtype: float64"
      ]
     },
     "execution_count": 104,
     "metadata": {},
     "output_type": "execute_result"
    }
   ],
   "source": [
    "#now create a pandas with samples and vocab and populate for frequency\n",
    "sample_319 = pd.DataFrame(index=add_list, columns=vocabulary)\n",
    "sample_319 = sample_319.fillna(0) # with 0s rather than NaNs\n",
    "for sample in add_list:\n",
    "    f = open(root_dir_ab+sample+\"/\"+sample+\".semantic\", \"r\")\n",
    "    #print(root_dir+sample+\"/\"+sample+\".semantic\")\n",
    "    notes=f.read().strip().split(\"\\t\")\n",
    "    for note in notes:\n",
    "        sample_319.loc[sample,note] +=1\n",
    "print(sample_319.shape)\n",
    "frequency_of_notes=sample_319.sum(numeric_only=True, axis = 0, skipna = True) \n",
    "sorted_frequency=frequency_of_notes.sort_values(axis=0, ascending=False, inplace=False, kind='quicksort', na_position='last')\n",
    "print(sorted_frequency)\n",
    "sorted_frequency.describe()"
   ]
  },
  {
   "cell_type": "code",
   "execution_count": 118,
   "metadata": {},
   "outputs": [
    {
     "name": "stdout",
     "output_type": "stream",
     "text": [
      "5\n",
      "309\n"
     ]
    }
   ],
   "source": [
    "drop_list=[]\n",
    "#remove where barline is more than 3\n",
    "for sample in add_list:\n",
    "    if sample_1234.loc[sample,'note-C5_eighth']>=5:\n",
    "        drop_list.append(sample)\n",
    "print(len(drop_list))\n",
    "add_list = [x for x in add_list if x not in drop_list]\n",
    "print(len(add_list))"
   ]
  },
  {
   "cell_type": "code",
   "execution_count": 119,
   "metadata": {},
   "outputs": [
    {
     "name": "stdout",
     "output_type": "stream",
     "text": [
      "(309, 60)\n",
      "barline               681\n",
      "note-C5_sixteenth     374\n",
      "note-C5_eighth        323\n",
      "note-D5_sixteenth     292\n",
      "note-G4_sixteenth     251\n",
      "note-D5_eighth        248\n",
      "clef-G2               220\n",
      "rest-eighth           212\n",
      "note-E5_sixteenth     199\n",
      "note-Bb4_sixteenth    189\n",
      "note-F5_sixteenth     186\n",
      "note-Bb4_eighth       178\n",
      "note-A4_sixteenth     176\n",
      "note-G4_eighth        174\n",
      "note-F4_sixteenth     154\n",
      "note-G5_sixteenth     154\n",
      "note-B4_sixteenth     148\n",
      "note-F5_eighth        130\n",
      "note-A4_eighth        128\n",
      "note-E5_eighth        126\n",
      "note-F4_eighth        112\n",
      "note-Eb5_eighth        97\n",
      "note-B4_eighth         93\n",
      "note-Eb5_sixteenth     93\n",
      "note-C5_quarter        92\n",
      "note-G5_eighth         89\n",
      "clef-C1                89\n",
      "timeSignature-C/       88\n",
      "timeSignature-2/4      83\n",
      "keySignature-FM        80\n",
      "note-D4_sixteenth      77\n",
      "note-Eb4_sixteenth     75\n",
      "rest-quarter           65\n",
      "note-E4_sixteenth      64\n",
      "keySignature-EbM       56\n",
      "rest-sixteenth         54\n",
      "keySignature-BbM       53\n",
      "timeSignature-C        50\n",
      "timeSignature-3/4      48\n",
      "note-Eb4_eighth        45\n",
      "note-A5_sixteenth      45\n",
      "note-C4_sixteenth      43\n",
      "note-Ab4_sixteenth     41\n",
      "note-C4_eighth         41\n",
      "note-Ab4_eighth        40\n",
      "tie                    31\n",
      "note-E5_quarter        29\n",
      "note-B4_quarter        29\n",
      "note-F5_quarter        27\n",
      "keySignature-GM        27\n",
      "note-G4_quarter        27\n",
      "note-A4_quarter        26\n",
      "timeSignature-3/8      25\n",
      "note-F4_quarter        22\n",
      "note-Bb4_quarter       22\n",
      "multirest-1            18\n",
      "timeSignature-6/8      15\n",
      "note-A5_eighth         15\n",
      "note-G5_quarter        14\n",
      "rest-half              14\n",
      "dtype: int64\n"
     ]
    },
    {
     "data": {
      "text/plain": [
       "count     60.000000\n",
       "mean     109.950000\n",
       "std      112.321033\n",
       "min       14.000000\n",
       "25%       37.750000\n",
       "50%       78.500000\n",
       "75%      154.000000\n",
       "max      681.000000\n",
       "dtype: float64"
      ]
     },
     "execution_count": 119,
     "metadata": {},
     "output_type": "execute_result"
    }
   ],
   "source": [
    "#now create a pandas with samples and vocab and populate for frequency\n",
    "sample_309 = pd.DataFrame(index=add_list, columns=vocabulary)\n",
    "sample_309 = sample_309.fillna(0) # with 0s rather than NaNs\n",
    "for sample in add_list:\n",
    "    f = open(root_dir_ab+sample+\"/\"+sample+\".semantic\", \"r\")\n",
    "    #print(root_dir+sample+\"/\"+sample+\".semantic\")\n",
    "    notes=f.read().strip().split(\"\\t\")\n",
    "    for note in notes:\n",
    "        sample_309.loc[sample,note] +=1\n",
    "print(sample_309.shape)\n",
    "frequency_of_notes=sample_309.sum(numeric_only=True, axis = 0, skipna = True) \n",
    "sorted_frequency=frequency_of_notes.sort_values(axis=0, ascending=False, inplace=False, kind='quicksort', na_position='last')\n",
    "print(sorted_frequency)\n",
    "sorted_frequency.describe()"
   ]
  },
  {
   "cell_type": "code",
   "execution_count": 120,
   "metadata": {},
   "outputs": [],
   "source": [
    "add_list309=add_list"
   ]
  },
  {
   "cell_type": "code",
   "execution_count": 126,
   "metadata": {},
   "outputs": [
    {
     "name": "stdout",
     "output_type": "stream",
     "text": [
      "1\n",
      "297\n"
     ]
    }
   ],
   "source": [
    "drop_list=[]\n",
    "#remove where barline is more than 3\n",
    "for sample in add_list:\n",
    "    if sample_1234.loc[sample,'note-C5_sixteenth']>=5:\n",
    "        drop_list.append(sample)\n",
    "print(len(drop_list))\n",
    "add_list = [x for x in add_list if x not in drop_list]\n",
    "print(len(add_list))"
   ]
  },
  {
   "cell_type": "code",
   "execution_count": 127,
   "metadata": {},
   "outputs": [
    {
     "name": "stdout",
     "output_type": "stream",
     "text": [
      "(297, 60)\n",
      "barline               655\n",
      "note-C5_eighth        317\n",
      "note-C5_sixteenth     278\n",
      "note-D5_sixteenth     276\n",
      "note-D5_eighth        248\n",
      "note-G4_sixteenth     218\n",
      "clef-G2               212\n",
      "rest-eighth           209\n",
      "note-Bb4_sixteenth    180\n",
      "note-E5_sixteenth     179\n",
      "note-Bb4_eighth       178\n",
      "note-F5_sixteenth     173\n",
      "note-G4_eighth        172\n",
      "note-A4_sixteenth     161\n",
      "note-F4_sixteenth     152\n",
      "note-B4_sixteenth     128\n",
      "note-F5_eighth        128\n",
      "note-A4_eighth        126\n",
      "note-G5_sixteenth     126\n",
      "note-E5_eighth        122\n",
      "note-F4_eighth        109\n",
      "note-Eb5_eighth        97\n",
      "note-B4_eighth         93\n",
      "note-Eb5_sixteenth     91\n",
      "note-C5_quarter        90\n",
      "note-G5_eighth         87\n",
      "clef-C1                85\n",
      "timeSignature-C/       82\n",
      "timeSignature-2/4      79\n",
      "note-D4_sixteenth      77\n",
      "keySignature-FM        76\n",
      "note-Eb4_sixteenth     73\n",
      "rest-quarter           63\n",
      "note-E4_sixteenth      57\n",
      "keySignature-EbM       55\n",
      "keySignature-BbM       53\n",
      "timeSignature-C        48\n",
      "timeSignature-3/4      48\n",
      "rest-sixteenth         47\n",
      "note-Eb4_eighth        45\n",
      "note-Ab4_eighth        40\n",
      "note-A5_sixteenth      39\n",
      "note-Ab4_sixteenth     39\n",
      "note-C4_eighth         38\n",
      "note-C4_sixteenth      34\n",
      "tie                    31\n",
      "note-B4_quarter        29\n",
      "note-E5_quarter        28\n",
      "note-G4_quarter        27\n",
      "note-F5_quarter        26\n",
      "keySignature-GM        26\n",
      "note-A4_quarter        26\n",
      "timeSignature-3/8      25\n",
      "note-F4_quarter        22\n",
      "note-Bb4_quarter       22\n",
      "multirest-1            18\n",
      "timeSignature-6/8      15\n",
      "note-A5_eighth         15\n",
      "note-G5_quarter        14\n",
      "rest-half              14\n",
      "dtype: int64\n"
     ]
    },
    {
     "data": {
      "text/plain": [
       "count     60.000000\n",
       "mean     103.683333\n",
       "std      104.802557\n",
       "min       14.000000\n",
       "25%       33.250000\n",
       "50%       76.500000\n",
       "75%      134.000000\n",
       "max      655.000000\n",
       "dtype: float64"
      ]
     },
     "execution_count": 127,
     "metadata": {},
     "output_type": "execute_result"
    }
   ],
   "source": [
    "#now create a pandas with samples and vocab and populate for frequency\n",
    "sample_297 = pd.DataFrame(index=add_list, columns=vocabulary)\n",
    "sample_297 = sample_297.fillna(0) # with 0s rather than NaNs\n",
    "for sample in add_list:\n",
    "    f = open(root_dir_ab+sample+\"/\"+sample+\".semantic\", \"r\")\n",
    "    #print(root_dir+sample+\"/\"+sample+\".semantic\")\n",
    "    notes=f.read().strip().split(\"\\t\")\n",
    "    for note in notes:\n",
    "        sample_297.loc[sample,note] +=1\n",
    "print(sample_297.shape)\n",
    "frequency_of_notes=sample_297.sum(numeric_only=True, axis = 0, skipna = True) \n",
    "sorted_frequency=frequency_of_notes.sort_values(axis=0, ascending=False, inplace=False, kind='quicksort', na_position='last')\n",
    "print(sorted_frequency)\n",
    "sorted_frequency.describe()"
   ]
  },
  {
   "cell_type": "code",
   "execution_count": 133,
   "metadata": {},
   "outputs": [
    {
     "name": "stdout",
     "output_type": "stream",
     "text": [
      "4\n",
      "290\n"
     ]
    }
   ],
   "source": [
    "drop_list=[]\n",
    "#remove where barline is more than 3\n",
    "for sample in add_list:\n",
    "    if sample_1234.loc[sample,'note-D5_sixteenth']>=5:\n",
    "        drop_list.append(sample)\n",
    "print(len(drop_list))\n",
    "add_list = [x for x in add_list if x not in drop_list]\n",
    "print(len(add_list))"
   ]
  },
  {
   "cell_type": "code",
   "execution_count": 139,
   "metadata": {},
   "outputs": [
    {
     "name": "stdout",
     "output_type": "stream",
     "text": [
      "2\n",
      "286\n"
     ]
    }
   ],
   "source": [
    "drop_list=[]\n",
    "#remove where barline is more than 3\n",
    "for sample in add_list:\n",
    "    if sample_1234.loc[sample,'note-D5_eighth']>=5:\n",
    "        drop_list.append(sample)\n",
    "print(len(drop_list))\n",
    "add_list = [x for x in add_list if x not in drop_list]\n",
    "print(len(add_list))"
   ]
  },
  {
   "cell_type": "code",
   "execution_count": 145,
   "metadata": {},
   "outputs": [
    {
     "name": "stdout",
     "output_type": "stream",
     "text": [
      "0\n",
      "286\n"
     ]
    }
   ],
   "source": [
    "drop_list=[]\n",
    "#remove where barline is more than 3\n",
    "for sample in add_list:\n",
    "    if sample_1234.loc[sample,'note-C5_eighth']>=5:\n",
    "        drop_list.append(sample)\n",
    "print(len(drop_list))\n",
    "add_list = [x for x in add_list if x not in drop_list]\n",
    "print(len(add_list))"
   ]
  },
  {
   "cell_type": "code",
   "execution_count": 151,
   "metadata": {},
   "outputs": [
    {
     "name": "stdout",
     "output_type": "stream",
     "text": [
      "1\n",
      "277\n"
     ]
    }
   ],
   "source": [
    "drop_list=[]\n",
    "#remove where barline is more than 3\n",
    "for sample in add_list:\n",
    "    if sample_1234.loc[sample,'note-G4_sixteenth']>=5:\n",
    "        drop_list.append(sample)\n",
    "print(len(drop_list))\n",
    "add_list = [x for x in add_list if x not in drop_list]\n",
    "print(len(add_list))"
   ]
  },
  {
   "cell_type": "code",
   "execution_count": 152,
   "metadata": {},
   "outputs": [
    {
     "name": "stdout",
     "output_type": "stream",
     "text": [
      "(277, 60)\n",
      "barline               613\n",
      "note-C5_eighth        305\n",
      "note-C5_sixteenth     259\n",
      "note-D5_sixteenth     228\n",
      "note-D5_eighth        220\n",
      "rest-eighth           201\n",
      "clef-G2               199\n",
      "note-G4_eighth        168\n",
      "note-Bb4_eighth       167\n",
      "note-F5_sixteenth     166\n",
      "note-E5_sixteenth     163\n",
      "note-Bb4_sixteenth    151\n",
      "note-A4_sixteenth     142\n",
      "note-G4_sixteenth     136\n",
      "note-F4_sixteenth     134\n",
      "note-A4_eighth        123\n",
      "note-F5_eighth        122\n",
      "note-G5_sixteenth     120\n",
      "note-E5_eighth        118\n",
      "note-F4_eighth        105\n",
      "note-B4_sixteenth     101\n",
      "note-B4_eighth         92\n",
      "note-C5_quarter        89\n",
      "note-G5_eighth         85\n",
      "note-Eb5_eighth        84\n",
      "clef-C1                78\n",
      "note-Eb5_sixteenth     77\n",
      "timeSignature-2/4      77\n",
      "timeSignature-C/       76\n",
      "keySignature-FM        71\n",
      "note-Eb4_sixteenth     67\n",
      "rest-quarter           60\n",
      "note-D4_sixteenth      56\n",
      "keySignature-EbM       51\n",
      "keySignature-BbM       48\n",
      "rest-sixteenth         44\n",
      "timeSignature-C        44\n",
      "timeSignature-3/4      42\n",
      "note-Eb4_eighth        41\n",
      "note-Ab4_eighth        40\n",
      "note-E4_sixteenth      40\n",
      "note-A5_sixteenth      38\n",
      "note-C4_eighth         38\n",
      "note-Ab4_sixteenth     32\n",
      "tie                    31\n",
      "note-B4_quarter        29\n",
      "note-E5_quarter        28\n",
      "note-G4_quarter        27\n",
      "note-F5_quarter        26\n",
      "note-A4_quarter        26\n",
      "timeSignature-3/8      24\n",
      "keySignature-GM        24\n",
      "note-C4_sixteenth      22\n",
      "note-F4_quarter        22\n",
      "note-Bb4_quarter       22\n",
      "multirest-1            17\n",
      "note-A5_eighth         15\n",
      "timeSignature-6/8      14\n",
      "rest-half              14\n",
      "note-G5_quarter        13\n",
      "dtype: int64\n"
     ]
    },
    {
     "data": {
      "text/plain": [
       "count     60.000000\n",
       "mean      94.416667\n",
       "std       96.457471\n",
       "min       13.000000\n",
       "25%       30.500000\n",
       "50%       69.000000\n",
       "75%      125.750000\n",
       "max      613.000000\n",
       "dtype: float64"
      ]
     },
     "execution_count": 152,
     "metadata": {},
     "output_type": "execute_result"
    }
   ],
   "source": [
    "#now create a pandas with samples and vocab and populate for frequency\n",
    "sample_277 = pd.DataFrame(index=add_list, columns=vocabulary)\n",
    "sample_277 = sample_277.fillna(0) # with 0s rather than NaNs\n",
    "for sample in add_list:\n",
    "    f = open(root_dir_ab+sample+\"/\"+sample+\".semantic\", \"r\")\n",
    "    #print(root_dir+sample+\"/\"+sample+\".semantic\")\n",
    "    notes=f.read().strip().split(\"\\t\")\n",
    "    for note in notes:\n",
    "        sample_277.loc[sample,note] +=1\n",
    "print(sample_277.shape)\n",
    "frequency_of_notes=sample_277.sum(numeric_only=True, axis = 0, skipna = True) \n",
    "sorted_frequency=frequency_of_notes.sort_values(axis=0, ascending=False, inplace=False, kind='quicksort', na_position='last')\n",
    "print(sorted_frequency)\n",
    "sorted_frequency.describe()"
   ]
  },
  {
   "cell_type": "code",
   "execution_count": 153,
   "metadata": {},
   "outputs": [],
   "source": [
    "add_list277=add_list"
   ]
  },
  {
   "cell_type": "code",
   "execution_count": 160,
   "metadata": {},
   "outputs": [
    {
     "name": "stdout",
     "output_type": "stream",
     "text": [
      "0\n",
      "272\n"
     ]
    }
   ],
   "source": [
    "drop_list=[]\n",
    "#remove where barline is more than 3\n",
    "for sample in add_list:\n",
    "    if sample_1234.loc[sample,'rest-eighth']>=5:\n",
    "        drop_list.append(sample)\n",
    "print(len(drop_list))\n",
    "add_list = [x for x in add_list if x not in drop_list]\n",
    "print(len(add_list))"
   ]
  },
  {
   "cell_type": "code",
   "execution_count": 166,
   "metadata": {},
   "outputs": [
    {
     "name": "stdout",
     "output_type": "stream",
     "text": [
      "5\n",
      "265\n"
     ]
    }
   ],
   "source": [
    "drop_list=[]\n",
    "#remove where barline is more than 3\n",
    "for sample in add_list:\n",
    "    if sample_1234.loc[sample,'note-Bb4_eighth']>=5:\n",
    "        drop_list.append(sample)\n",
    "print(len(drop_list))\n",
    "add_list = [x for x in add_list if x not in drop_list]\n",
    "print(len(add_list))"
   ]
  },
  {
   "cell_type": "code",
   "execution_count": 170,
   "metadata": {},
   "outputs": [
    {
     "name": "stdout",
     "output_type": "stream",
     "text": [
      "0\n",
      "264\n"
     ]
    }
   ],
   "source": [
    "drop_list=[]\n",
    "#remove where barline is more than 3\n",
    "for sample in add_list:\n",
    "    if sample_1234.loc[sample,'note-F5_sixteenth']>=7:\n",
    "        drop_list.append(sample)\n",
    "print(len(drop_list))\n",
    "add_list = [x for x in add_list if x not in drop_list]\n",
    "print(len(add_list))"
   ]
  },
  {
   "cell_type": "code",
   "execution_count": 174,
   "metadata": {},
   "outputs": [
    {
     "name": "stdout",
     "output_type": "stream",
     "text": [
      "1\n",
      "262\n"
     ]
    }
   ],
   "source": [
    "drop_list=[]\n",
    "#remove where barline is more than 3\n",
    "for sample in add_list:\n",
    "    if sample_1234.loc[sample,'note-E5_sixteenth']>=7:\n",
    "        drop_list.append(sample)\n",
    "print(len(drop_list))\n",
    "add_list = [x for x in add_list if x not in drop_list]\n",
    "print(len(add_list))"
   ]
  },
  {
   "cell_type": "code",
   "execution_count": 178,
   "metadata": {},
   "outputs": [
    {
     "name": "stdout",
     "output_type": "stream",
     "text": [
      "0\n",
      "261\n"
     ]
    }
   ],
   "source": [
    "drop_list=[]\n",
    "#remove where barline is more than 3\n",
    "for sample in add_list:\n",
    "    if sample_1234.loc[sample,'note-Bb4_sixteenth']>=7:\n",
    "        drop_list.append(sample)\n",
    "print(len(drop_list))\n",
    "add_list = [x for x in add_list if x not in drop_list]\n",
    "print(len(add_list))"
   ]
  },
  {
   "cell_type": "code",
   "execution_count": 195,
   "metadata": {},
   "outputs": [
    {
     "name": "stdout",
     "output_type": "stream",
     "text": [
      "0\n",
      "256\n"
     ]
    }
   ],
   "source": [
    "drop_list=[]\n",
    "#remove where barline is more than 3\n",
    "for sample in add_list:\n",
    "    if sample_1234.loc[sample,'note-A4_eighth']>=7:\n",
    "        drop_list.append(sample)\n",
    "print(len(drop_list))\n",
    "add_list = [x for x in add_list if x not in drop_list]\n",
    "print(len(add_list))"
   ]
  },
  {
   "cell_type": "code",
   "execution_count": 196,
   "metadata": {},
   "outputs": [
    {
     "name": "stdout",
     "output_type": "stream",
     "text": [
      "(256, 60)\n",
      "barline               572\n",
      "note-C5_eighth        295\n",
      "note-C5_sixteenth     245\n",
      "note-D5_sixteenth     214\n",
      "note-D5_eighth        211\n",
      "clef-G2               182\n",
      "note-G4_eighth        157\n",
      "rest-eighth           153\n",
      "note-F5_sixteenth     148\n",
      "note-E5_sixteenth     141\n",
      "note-A4_sixteenth     139\n",
      "note-G4_sixteenth     132\n",
      "note-Bb4_sixteenth    128\n",
      "note-Bb4_eighth       125\n",
      "note-A4_eighth        119\n",
      "note-F5_eighth        116\n",
      "note-E5_eighth        114\n",
      "note-G5_sixteenth     108\n",
      "note-B4_sixteenth      99\n",
      "note-F4_eighth         92\n",
      "note-B4_eighth         90\n",
      "note-C5_quarter        87\n",
      "note-F4_sixteenth      84\n",
      "note-G5_eighth         82\n",
      "note-Eb5_eighth        75\n",
      "clef-C1                74\n",
      "timeSignature-2/4      74\n",
      "keySignature-FM        69\n",
      "timeSignature-C/       68\n",
      "note-Eb5_sixteenth     67\n",
      "rest-quarter           59\n",
      "note-D4_sixteenth      46\n",
      "rest-sixteenth         43\n",
      "note-Eb4_sixteenth     43\n",
      "keySignature-BbM       42\n",
      "timeSignature-3/4      41\n",
      "keySignature-EbM       40\n",
      "timeSignature-C        37\n",
      "note-Eb4_eighth        34\n",
      "note-E4_sixteenth      34\n",
      "note-C4_eighth         33\n",
      "note-A5_sixteenth      33\n",
      "note-Ab4_eighth        31\n",
      "tie                    30\n",
      "note-B4_quarter        29\n",
      "note-E5_quarter        28\n",
      "note-Ab4_sixteenth     26\n",
      "note-A4_quarter        26\n",
      "note-G4_quarter        26\n",
      "note-F5_quarter        25\n",
      "timeSignature-3/8      24\n",
      "keySignature-GM        24\n",
      "note-F4_quarter        21\n",
      "note-Bb4_quarter       21\n",
      "multirest-1            17\n",
      "rest-half              14\n",
      "note-G5_quarter        13\n",
      "note-A5_eighth         13\n",
      "timeSignature-6/8      12\n",
      "note-C4_sixteenth      12\n",
      "dtype: int64\n"
     ]
    },
    {
     "data": {
      "text/plain": [
       "count     60.000000\n",
       "mean      85.616667\n",
       "std       89.857154\n",
       "min       12.000000\n",
       "25%       28.750000\n",
       "50%       63.000000\n",
       "75%      116.750000\n",
       "max      572.000000\n",
       "dtype: float64"
      ]
     },
     "execution_count": 196,
     "metadata": {},
     "output_type": "execute_result"
    }
   ],
   "source": [
    "#now create a pandas with samples and vocab and populate for frequency\n",
    "sample_256 = pd.DataFrame(index=add_list, columns=vocabulary)\n",
    "sample_256 = sample_256.fillna(0) # with 0s rather than NaNs\n",
    "for sample in add_list:\n",
    "    f = open(root_dir_ab+sample+\"/\"+sample+\".semantic\", \"r\")\n",
    "    #print(root_dir+sample+\"/\"+sample+\".semantic\")\n",
    "    notes=f.read().strip().split(\"\\t\")\n",
    "    for note in notes:\n",
    "        sample_256.loc[sample,note] +=1\n",
    "print(sample_256.shape)\n",
    "frequency_of_notes=sample_256.sum(numeric_only=True, axis = 0, skipna = True) \n",
    "sorted_frequency=frequency_of_notes.sort_values(axis=0, ascending=False, inplace=False, kind='quicksort', na_position='last')\n",
    "print(sorted_frequency)\n",
    "sorted_frequency.describe()"
   ]
  },
  {
   "cell_type": "code",
   "execution_count": 197,
   "metadata": {},
   "outputs": [],
   "source": [
    "add_list256=add_list"
   ]
  },
  {
   "cell_type": "code",
   "execution_count": 216,
   "metadata": {},
   "outputs": [],
   "source": [
    "add_list251=add_list"
   ]
  },
  {
   "cell_type": "code",
   "execution_count": 230,
   "metadata": {},
   "outputs": [
    {
     "name": "stdout",
     "output_type": "stream",
     "text": [
      "1\n",
      "250\n"
     ]
    }
   ],
   "source": [
    "drop_list=[]\n",
    "#remove where barline is more than 3\n",
    "for sample in add_list:\n",
    "    if sample_1234.loc[sample,'note-G5_eighth']>=6:\n",
    "        drop_list.append(sample)\n",
    "print(len(drop_list))\n",
    "add_list = [x for x in add_list if x not in drop_list]\n",
    "print(len(add_list))"
   ]
  },
  {
   "cell_type": "code",
   "execution_count": 231,
   "metadata": {},
   "outputs": [
    {
     "name": "stdout",
     "output_type": "stream",
     "text": [
      "(250, 60)\n",
      "barline               559\n",
      "note-C5_eighth        294\n",
      "note-C5_sixteenth     238\n",
      "note-D5_sixteenth     212\n",
      "note-D5_eighth        211\n",
      "clef-G2               176\n",
      "note-G4_eighth        157\n",
      "rest-eighth           151\n",
      "note-F5_sixteenth     143\n",
      "note-A4_sixteenth     133\n",
      "note-E5_sixteenth     129\n",
      "note-Bb4_eighth       125\n",
      "note-Bb4_sixteenth    125\n",
      "note-G4_sixteenth     124\n",
      "note-F5_eighth        116\n",
      "note-A4_eighth        115\n",
      "note-E5_eighth        114\n",
      "note-B4_sixteenth      98\n",
      "note-C5_quarter        87\n",
      "note-F4_eighth         85\n",
      "note-F4_sixteenth      82\n",
      "note-B4_eighth         79\n",
      "note-G5_sixteenth      76\n",
      "note-Eb5_eighth        75\n",
      "note-G5_eighth         75\n",
      "clef-C1                74\n",
      "timeSignature-2/4      73\n",
      "keySignature-FM        68\n",
      "note-Eb5_sixteenth     66\n",
      "timeSignature-C/       65\n",
      "rest-quarter           58\n",
      "note-D4_sixteenth      46\n",
      "note-Eb4_sixteenth     42\n",
      "keySignature-BbM       42\n",
      "timeSignature-3/4      40\n",
      "keySignature-EbM       38\n",
      "timeSignature-C        37\n",
      "note-E4_sixteenth      34\n",
      "note-Eb4_eighth        34\n",
      "note-C4_eighth         33\n",
      "rest-sixteenth         33\n",
      "note-Ab4_eighth        31\n",
      "tie                    30\n",
      "note-B4_quarter        29\n",
      "note-E5_quarter        28\n",
      "note-Ab4_sixteenth     26\n",
      "note-G4_quarter        26\n",
      "note-A4_quarter        26\n",
      "note-A5_sixteenth      25\n",
      "note-F5_quarter        25\n",
      "timeSignature-3/8      24\n",
      "keySignature-GM        23\n",
      "note-Bb4_quarter       21\n",
      "note-F4_quarter        19\n",
      "multirest-1            16\n",
      "note-G5_quarter        13\n",
      "note-A5_eighth         13\n",
      "rest-half              13\n",
      "note-C4_sixteenth      12\n",
      "timeSignature-6/8      11\n",
      "dtype: int64\n"
     ]
    },
    {
     "data": {
      "text/plain": [
       "count     60.000000\n",
       "mean      82.883333\n",
       "std       88.141276\n",
       "min       11.000000\n",
       "25%       27.500000\n",
       "50%       61.500000\n",
       "75%      115.250000\n",
       "max      559.000000\n",
       "dtype: float64"
      ]
     },
     "execution_count": 231,
     "metadata": {},
     "output_type": "execute_result"
    }
   ],
   "source": [
    "#now create a pandas with samples and vocab and populate for frequency\n",
    "imbalance_test_250 = pd.DataFrame(index=add_list, columns=vocabulary)\n",
    "imbalance_test_250 = imbalance_test_250.fillna(0) # with 0s rather than NaNs\n",
    "for sample in add_list:\n",
    "    f = open(root_dir_ab+sample+\"/\"+sample+\".semantic\", \"r\")\n",
    "    #print(root_dir+sample+\"/\"+sample+\".semantic\")\n",
    "    notes=f.read().strip().split(\"\\t\")\n",
    "    for note in notes:\n",
    "        imbalance_test_250.loc[sample,note] +=1\n",
    "print(imbalance_test_250.shape)\n",
    "frequency_of_notes=imbalance_test_250.sum(numeric_only=True, axis = 0, skipna = True) \n",
    "sorted_frequency=frequency_of_notes.sort_values(axis=0, ascending=False, inplace=False, kind='quicksort', na_position='last')\n",
    "print(sorted_frequency)\n",
    "sorted_frequency.describe()"
   ]
  },
  {
   "cell_type": "code",
   "execution_count": 232,
   "metadata": {},
   "outputs": [
    {
     "data": {
      "text/plain": [
       "250"
      ]
     },
     "execution_count": 232,
     "metadata": {},
     "output_type": "execute_result"
    }
   ],
   "source": [
    "f = open(\"/home/jimitcard/Desktop/OMR/data/imbalance_testing.txt\", 'w')\n",
    "for sample in add_list:\n",
    "    f.write(sample+\"\\n\")\n",
    "f.close()\n",
    "len(set(add_list))"
   ]
  },
  {
   "cell_type": "code",
   "execution_count": 234,
   "metadata": {},
   "outputs": [
    {
     "name": "stdout",
     "output_type": "stream",
     "text": [
      "('Matplotlib version: ', '2.2.5')\n"
     ]
    }
   ],
   "source": [
    "#plotting bar graph with bins of different colors\n",
    "%matplotlib inline \n",
    "\n",
    "import matplotlib as mpl\n",
    "import matplotlib.pyplot as plt\n",
    "\n",
    "print ('Matplotlib version: ', mpl.__version__) # >= 2.0.0"
   ]
  },
  {
   "cell_type": "code",
   "execution_count": 236,
   "metadata": {},
   "outputs": [
    {
     "data": {
      "image/png": "[encoded data removed]",
      "text/plain": [
       "<Figure size 1296x360 with 1 Axes>"
      ]
     },
     "metadata": {
      "needs_background": "light"
     },
     "output_type": "display_data"
    }
   ],
   "source": [
    "f, ax = plt.subplots(figsize=(18,5)) # set the size that you'd like (width, height)\n",
    "sorted_frequency.plot(kind='line')\n",
    "\n",
    "plt.title('Frequency Distribution of Notes in Sampled Dataset')\n",
    "plt.ylabel('Frequency')\n",
    "plt.xlabel('Notes')\n",
    "plt.xticks([])\n",
    "\n",
    "#plt.savefig('frequencyVsNotes.png')\n",
    "#plt.plot([5,0], [5,4500], 'k-')\n",
    "plt.yscale('log')\n",
    "#median\n",
    "#10-90\n",
    "plt.show()"
   ]
  },
  {
   "cell_type": "code",
   "execution_count": 237,
   "metadata": {},
   "outputs": [
    {
     "name": "stdout",
     "output_type": "stream",
     "text": [
      "250\n"
     ]
    }
   ],
   "source": [
    "#To get the list of samples\n",
    "f = open(\"/home/jimitcard/Desktop/OMR/data/testing.txt\", 'r')\n",
    "samples=f.read().strip().split(\"\\n\")\n",
    "print(len(samples))\n",
    "f.close()"
   ]
  },
  {
   "cell_type": "code",
   "execution_count": 238,
   "metadata": {},
   "outputs": [
    {
     "data": {
      "text/html": [
       "<div>\n",
       "<style scoped>\n",
       "    .dataframe tbody tr th:only-of-type {\n",
       "        vertical-align: middle;\n",
       "    }\n",
       "\n",
       "    .dataframe tbody tr th {\n",
       "        vertical-align: top;\n",
       "    }\n",
       "\n",
       "    .dataframe thead th {\n",
       "        text-align: right;\n",
       "    }\n",
       "</style>\n",
       "<table border=\"1\" class=\"dataframe\">\n",
       "  <thead>\n",
       "    <tr style=\"text-align: right;\">\n",
       "      <th></th>\n",
       "      <th>rest-half</th>\n",
       "      <th>note-G4_quarter</th>\n",
       "      <th>note-C5_quarter</th>\n",
       "      <th>note-A4_quarter</th>\n",
       "      <th>keySignature-GM</th>\n",
       "      <th>timeSignature-3/8</th>\n",
       "      <th>timeSignature-3/4</th>\n",
       "      <th>note-F5_quarter</th>\n",
       "      <th>keySignature-EbM</th>\n",
       "      <th>timeSignature-2/4</th>\n",
       "      <th>...</th>\n",
       "      <th>note-B4_quarter</th>\n",
       "      <th>note-E4_sixteenth</th>\n",
       "      <th>note-C4_eighth</th>\n",
       "      <th>note-G5_quarter</th>\n",
       "      <th>note-A4_eighth</th>\n",
       "      <th>note-A5_eighth</th>\n",
       "      <th>rest-quarter</th>\n",
       "      <th>note-Bb4_quarter</th>\n",
       "      <th>note-D5_sixteenth</th>\n",
       "      <th>note-D4_sixteenth</th>\n",
       "    </tr>\n",
       "  </thead>\n",
       "  <tbody>\n",
       "    <tr>\n",
       "      <th>100015630-1_3_1</th>\n",
       "      <td>0</td>\n",
       "      <td>0</td>\n",
       "      <td>0</td>\n",
       "      <td>0</td>\n",
       "      <td>0</td>\n",
       "      <td>0</td>\n",
       "      <td>0</td>\n",
       "      <td>0</td>\n",
       "      <td>0</td>\n",
       "      <td>0</td>\n",
       "      <td>...</td>\n",
       "      <td>0</td>\n",
       "      <td>0</td>\n",
       "      <td>0</td>\n",
       "      <td>0</td>\n",
       "      <td>4</td>\n",
       "      <td>0</td>\n",
       "      <td>1</td>\n",
       "      <td>1</td>\n",
       "      <td>0</td>\n",
       "      <td>0</td>\n",
       "    </tr>\n",
       "    <tr>\n",
       "      <th>000118073-1_1_1</th>\n",
       "      <td>0</td>\n",
       "      <td>0</td>\n",
       "      <td>2</td>\n",
       "      <td>0</td>\n",
       "      <td>0</td>\n",
       "      <td>0</td>\n",
       "      <td>0</td>\n",
       "      <td>0</td>\n",
       "      <td>0</td>\n",
       "      <td>0</td>\n",
       "      <td>...</td>\n",
       "      <td>0</td>\n",
       "      <td>0</td>\n",
       "      <td>0</td>\n",
       "      <td>0</td>\n",
       "      <td>0</td>\n",
       "      <td>0</td>\n",
       "      <td>1</td>\n",
       "      <td>0</td>\n",
       "      <td>0</td>\n",
       "      <td>0</td>\n",
       "    </tr>\n",
       "    <tr>\n",
       "      <th>000127938-1_1_1</th>\n",
       "      <td>0</td>\n",
       "      <td>0</td>\n",
       "      <td>0</td>\n",
       "      <td>0</td>\n",
       "      <td>0</td>\n",
       "      <td>0</td>\n",
       "      <td>0</td>\n",
       "      <td>0</td>\n",
       "      <td>0</td>\n",
       "      <td>0</td>\n",
       "      <td>...</td>\n",
       "      <td>0</td>\n",
       "      <td>2</td>\n",
       "      <td>0</td>\n",
       "      <td>0</td>\n",
       "      <td>0</td>\n",
       "      <td>0</td>\n",
       "      <td>0</td>\n",
       "      <td>0</td>\n",
       "      <td>0</td>\n",
       "      <td>0</td>\n",
       "    </tr>\n",
       "    <tr>\n",
       "      <th>000126056-1_1_1</th>\n",
       "      <td>0</td>\n",
       "      <td>0</td>\n",
       "      <td>0</td>\n",
       "      <td>0</td>\n",
       "      <td>0</td>\n",
       "      <td>0</td>\n",
       "      <td>0</td>\n",
       "      <td>0</td>\n",
       "      <td>1</td>\n",
       "      <td>0</td>\n",
       "      <td>...</td>\n",
       "      <td>0</td>\n",
       "      <td>0</td>\n",
       "      <td>0</td>\n",
       "      <td>0</td>\n",
       "      <td>0</td>\n",
       "      <td>0</td>\n",
       "      <td>0</td>\n",
       "      <td>0</td>\n",
       "      <td>0</td>\n",
       "      <td>4</td>\n",
       "    </tr>\n",
       "    <tr>\n",
       "      <th>000103307-1_1_1</th>\n",
       "      <td>0</td>\n",
       "      <td>0</td>\n",
       "      <td>0</td>\n",
       "      <td>0</td>\n",
       "      <td>0</td>\n",
       "      <td>0</td>\n",
       "      <td>0</td>\n",
       "      <td>0</td>\n",
       "      <td>0</td>\n",
       "      <td>0</td>\n",
       "      <td>...</td>\n",
       "      <td>0</td>\n",
       "      <td>0</td>\n",
       "      <td>0</td>\n",
       "      <td>0</td>\n",
       "      <td>2</td>\n",
       "      <td>0</td>\n",
       "      <td>0</td>\n",
       "      <td>0</td>\n",
       "      <td>3</td>\n",
       "      <td>0</td>\n",
       "    </tr>\n",
       "  </tbody>\n",
       "</table>\n",
       "<p>5 rows × 60 columns</p>\n",
       "</div>"
      ],
      "text/plain": [
       "                 rest-half  note-G4_quarter  note-C5_quarter  note-A4_quarter  \\\n",
       "100015630-1_3_1          0                0                0                0   \n",
       "000118073-1_1_1          0                0                2                0   \n",
       "000127938-1_1_1          0                0                0                0   \n",
       "000126056-1_1_1          0                0                0                0   \n",
       "000103307-1_1_1          0                0                0                0   \n",
       "\n",
       "                 keySignature-GM  timeSignature-3/8  timeSignature-3/4  \\\n",
       "100015630-1_3_1                0                  0                  0   \n",
       "000118073-1_1_1                0                  0                  0   \n",
       "000127938-1_1_1                0                  0                  0   \n",
       "000126056-1_1_1                0                  0                  0   \n",
       "000103307-1_1_1                0                  0                  0   \n",
       "\n",
       "                 note-F5_quarter  keySignature-EbM  timeSignature-2/4  ...  \\\n",
       "100015630-1_3_1                0                 0                  0  ...   \n",
       "000118073-1_1_1                0                 0                  0  ...   \n",
       "000127938-1_1_1                0                 0                  0  ...   \n",
       "000126056-1_1_1                0                 1                  0  ...   \n",
       "000103307-1_1_1                0                 0                  0  ...   \n",
       "\n",
       "                 note-B4_quarter  note-E4_sixteenth  note-C4_eighth  \\\n",
       "100015630-1_3_1                0                  0               0   \n",
       "000118073-1_1_1                0                  0               0   \n",
       "000127938-1_1_1                0                  2               0   \n",
       "000126056-1_1_1                0                  0               0   \n",
       "000103307-1_1_1                0                  0               0   \n",
       "\n",
       "                 note-G5_quarter  note-A4_eighth  note-A5_eighth  \\\n",
       "100015630-1_3_1                0               4               0   \n",
       "000118073-1_1_1                0               0               0   \n",
       "000127938-1_1_1                0               0               0   \n",
       "000126056-1_1_1                0               0               0   \n",
       "000103307-1_1_1                0               2               0   \n",
       "\n",
       "                 rest-quarter  note-Bb4_quarter  note-D5_sixteenth  \\\n",
       "100015630-1_3_1             1                 1                  0   \n",
       "000118073-1_1_1             1                 0                  0   \n",
       "000127938-1_1_1             0                 0                  0   \n",
       "000126056-1_1_1             0                 0                  0   \n",
       "000103307-1_1_1             0                 0                  3   \n",
       "\n",
       "                 note-D4_sixteenth  \n",
       "100015630-1_3_1                  0  \n",
       "000118073-1_1_1                  0  \n",
       "000127938-1_1_1                  0  \n",
       "000126056-1_1_1                  4  \n",
       "000103307-1_1_1                  0  \n",
       "\n",
       "[5 rows x 60 columns]"
      ]
     },
     "execution_count": 238,
     "metadata": {},
     "output_type": "execute_result"
    }
   ],
   "source": [
    "#now create a pandas with samples and vocab and populate for frequency\n",
    "sample_250 = pd.DataFrame(index=samples, columns=vocabulary)\n",
    "sample_250 = sample_250.fillna(0) # with 0s rather than NaNs\n",
    "for sample in samples:\n",
    "    f = open(\"/home/jimitcard/Desktop/OMR/sampled_1250/\"+sample+\"/\"+sample+\".semantic\", \"r\")\n",
    "    notes=f.read().strip().split(\"\\t\")\n",
    "    for note in notes:\n",
    "        sample_250.loc[sample,note] +=1\n",
    "sample_250.head()"
   ]
  },
  {
   "cell_type": "code",
   "execution_count": 246,
   "metadata": {},
   "outputs": [
    {
     "data": {
      "text/plain": [
       "barline               788\n",
       "note-C5_eighth        437\n",
       "note-D5_eighth        308\n",
       "note-C5_sixteenth     298\n",
       "note-A4_eighth        252\n",
       "note-G4_eighth        249\n",
       "note-D5_sixteenth     242\n",
       "note-Bb4_eighth       207\n",
       "note-B4_eighth        169\n",
       "rest-eighth           165\n",
       "note-G4_sixteenth     162\n",
       "note-E5_sixteenth     157\n",
       "clef-G2               157\n",
       "note-A4_sixteenth     150\n",
       "note-F5_sixteenth     147\n",
       "note-E5_eighth        147\n",
       "note-F5_eighth        141\n",
       "note-B4_sixteenth     126\n",
       "note-Bb4_sixteenth    119\n",
       "note-F4_sixteenth     118\n",
       "rest-quarter          117\n",
       "timeSignature-C       116\n",
       "note-C5_quarter       107\n",
       "note-F4_eighth        103\n",
       "clef-C1                95\n",
       "note-G5_sixteenth      81\n",
       "note-A4_quarter        74\n",
       "note-G5_eighth         72\n",
       "note-Eb5_eighth        64\n",
       "note-G4_quarter        63\n",
       "note-Bb4_quarter       61\n",
       "keySignature-FM        61\n",
       "timeSignature-2/4      56\n",
       "note-Eb5_sixteenth     52\n",
       "note-E4_sixteenth      42\n",
       "note-D4_sixteenth      40\n",
       "note-C4_sixteenth      38\n",
       "keySignature-BbM       38\n",
       "note-B4_quarter        36\n",
       "note-F4_quarter        34\n",
       "note-Eb4_sixteenth     32\n",
       "note-Eb4_eighth        32\n",
       "rest-sixteenth         30\n",
       "keySignature-GM        27\n",
       "note-F5_quarter        27\n",
       "keySignature-EbM       26\n",
       "note-Ab4_eighth        25\n",
       "timeSignature-6/8      23\n",
       "note-G5_quarter        23\n",
       "note-Ab4_sixteenth     22\n",
       "timeSignature-3/8      22\n",
       "note-E5_quarter        21\n",
       "timeSignature-3/4      21\n",
       "rest-half              18\n",
       "note-A5_sixteenth      17\n",
       "note-C4_eighth         15\n",
       "timeSignature-C/       14\n",
       "note-A5_eighth         14\n",
       "multirest-1            13\n",
       "tie                    10\n",
       "dtype: int64"
      ]
     },
     "execution_count": 246,
     "metadata": {},
     "output_type": "execute_result"
    }
   ],
   "source": [
    "frequency_of_notes=sample_250.sum(numeric_only=True, axis = 0, skipna = True) \n",
    "sorted_frequency_250=frequency_of_notes.sort_values(axis=0, ascending=False, inplace=False, kind='quicksort', na_position='last')\n",
    "sorted_frequency_250"
   ]
  },
  {
   "cell_type": "code",
   "execution_count": 252,
   "metadata": {},
   "outputs": [
    {
     "data": {
      "text/plain": [
       "294"
      ]
     },
     "execution_count": 252,
     "metadata": {},
     "output_type": "execute_result"
    }
   ],
   "source": [
    "list_imbalance=[]\n",
    "sorted_frequency[1]\n",
    "for notes in sorted_frequency_250.index:\n",
    "    print(notes)\n",
    "    list_imbalance[notes]=sorted_frequency[notes]\n",
    "list_imbalance\n",
    "    "
   ]
  },
  {
   "cell_type": "code",
   "execution_count": null,
   "metadata": {},
   "outputs": [],
   "source": []
  },
  {
   "cell_type": "code",
   "execution_count": 247,
   "metadata": {},
   "outputs": [
    {
     "data": {
      "text/plain": [
       "{'barline': 559,\n",
       " 'clef-C1': 74,\n",
       " 'clef-G2': 176,\n",
       " 'keySignature-BbM': 42,\n",
       " 'keySignature-EbM': 38,\n",
       " 'keySignature-FM': 68,\n",
       " 'keySignature-GM': 23,\n",
       " 'multirest-1': 16,\n",
       " 'note-A4_eighth': 115,\n",
       " 'note-A4_quarter': 26,\n",
       " 'note-A4_sixteenth': 133,\n",
       " 'note-A5_eighth': 13,\n",
       " 'note-A5_sixteenth': 25,\n",
       " 'note-Ab4_eighth': 31,\n",
       " 'note-Ab4_sixteenth': 26,\n",
       " 'note-B4_eighth': 79,\n",
       " 'note-B4_quarter': 29,\n",
       " 'note-B4_sixteenth': 98,\n",
       " 'note-Bb4_eighth': 125,\n",
       " 'note-Bb4_quarter': 21,\n",
       " 'note-Bb4_sixteenth': 125,\n",
       " 'note-C4_eighth': 33,\n",
       " 'note-C4_sixteenth': 12,\n",
       " 'note-C5_eighth': 294,\n",
       " 'note-C5_quarter': 87,\n",
       " 'note-C5_sixteenth': 238,\n",
       " 'note-D4_sixteenth': 46,\n",
       " 'note-D5_eighth': 211,\n",
       " 'note-D5_sixteenth': 212,\n",
       " 'note-E4_sixteenth': 34,\n",
       " 'note-E5_eighth': 114,\n",
       " 'note-E5_quarter': 28,\n",
       " 'note-E5_sixteenth': 129,\n",
       " 'note-Eb4_eighth': 34,\n",
       " 'note-Eb4_sixteenth': 42,\n",
       " 'note-Eb5_eighth': 75,\n",
       " 'note-Eb5_sixteenth': 66,\n",
       " 'note-F4_eighth': 85,\n",
       " 'note-F4_quarter': 19,\n",
       " 'note-F4_sixteenth': 82,\n",
       " 'note-F5_eighth': 116,\n",
       " 'note-F5_quarter': 25,\n",
       " 'note-F5_sixteenth': 143,\n",
       " 'note-G4_eighth': 157,\n",
       " 'note-G4_quarter': 26,\n",
       " 'note-G4_sixteenth': 124,\n",
       " 'note-G5_eighth': 75,\n",
       " 'note-G5_quarter': 13,\n",
       " 'note-G5_sixteenth': 76,\n",
       " 'rest-eighth': 151,\n",
       " 'rest-half': 13,\n",
       " 'rest-quarter': 58,\n",
       " 'rest-sixteenth': 33,\n",
       " 'tie': 30,\n",
       " 'timeSignature-2/4': 73,\n",
       " 'timeSignature-3/4': 40,\n",
       " 'timeSignature-3/8': 24,\n",
       " 'timeSignature-6/8': 11,\n",
       " 'timeSignature-C': 37,\n",
       " 'timeSignature-C/': 65}"
      ]
     },
     "execution_count": 247,
     "metadata": {},
     "output_type": "execute_result"
    }
   ],
   "source": []
  },
  {
   "cell_type": "code",
   "execution_count": 242,
   "metadata": {},
   "outputs": [
    {
     "data": {
      "image/png": "[encoded data removed]",
      "text/plain": [
       "<Figure size 1296x360 with 1 Axes>"
      ]
     },
     "metadata": {
      "needs_background": "light"
     },
     "output_type": "display_data"
    }
   ],
   "source": [
    "f, ax = plt.subplots(figsize=(18,5)) # set the size that you'd like (width, height)\n",
    "sorted_frequency.plot(kind='line',label='Imbalance Testing Dataset')\n",
    "sorted_frequency_250.plot(kind='line', label='Testing Dataset')\n",
    "\n",
    "plt.title('Frequency Distribution of Notes in Sampled Dataset')\n",
    "plt.ylabel('Frequency')\n",
    "plt.xlabel('Notes')\n",
    "plt.xticks([])\n",
    "\n",
    "#plt.savefig('frequencyVsNotes.png')\n",
    "#plt.plot([5,0], [5,4500], 'k-')\n",
    "plt.yscale('log')\n",
    "plt.legend()\n",
    "\n",
    "#median\n",
    "#10-90\n",
    "plt.show()"
   ]
  }
 ],
 "metadata": {
  "kernelspec": {
   "display_name": "Python 2",
   "language": "python",
   "name": "python2"
  },
  "language_info": {
   "codemirror_mode": {
    "name": "ipython",
    "version": 2
   },
   "file_extension": ".py",
   "mimetype": "text/x-python",
   "name": "python",
   "nbconvert_exporter": "python",
   "pygments_lexer": "ipython2",
   "version": "2.7.12"
  }
 },
 "nbformat": 4,
 "nbformat_minor": 2
}
