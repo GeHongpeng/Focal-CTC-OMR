{
 "cells": [
  {
   "cell_type": "code",
   "execution_count": null,
   "metadata": {},
   "outputs": [],
   "source": [
    "import pandas as pd"
   ]
  },
  {
   "cell_type": "code",
   "execution_count": null,
   "metadata": {
    "scrolled": true
   },
   "outputs": [],
   "source": [
    "#To get the list of samples\n",
    "f = open(\"/home/jimitcard/Desktop/OMR/sampled_1250/samples_1250_list.txt\", \"r\")\n",
    "samples=f.read().strip().split(\"\\n\")\n",
    "print(len(samples))\n",
    "f.close()"
   ]
  },
  {
   "cell_type": "code",
   "execution_count": null,
   "metadata": {
    "scrolled": true
   },
   "outputs": [],
   "source": [
    "#to get the vocabulary of samples\n",
    "vocabulary=set({})\n",
    "for sample in samples:\n",
    "    if len(vocabulary)==60:\n",
    "        break\n",
    "    f = open(\"/home/jimitcard/Desktop/OMR/sampled_1250/\"+sample+\"/\"+sample+\".semantic\", \"r\")\n",
    "    notes=f.read().strip().split(\"\\t\")\n",
    "    for note in notes:\n",
    "        vocabulary.add(note)\n",
    "print(len(vocabulary)) "
   ]
  },
  {
   "cell_type": "code",
   "execution_count": null,
   "metadata": {
    "scrolled": true
   },
   "outputs": [],
   "source": [
    "vocabulary=list(vocabulary)\n",
    "vocabulary"
   ]
  },
  {
   "cell_type": "code",
   "execution_count": null,
   "metadata": {},
   "outputs": [],
   "source": [
    "f = open(\"/home/jimitcard/Desktop/OMR/data/vocabulary_semantic.txt\", 'w')\n",
    "for vocab in vocabulary:\n",
    "    f.write(vocab+\"\\n\")\n",
    "f.close()"
   ]
  },
  {
   "cell_type": "code",
   "execution_count": null,
   "metadata": {
    "scrolled": true
   },
   "outputs": [],
   "source": [
    "#now create a pandas with samples and vocab and populate for frequency\n",
    "sample_1250 = pd.DataFrame(index=samples, columns=vocabulary)\n",
    "sample_1250 = sample_1250.fillna(0) # with 0s rather than NaNs\n",
    "sample_1250.head()"
   ]
  },
  {
   "cell_type": "code",
   "execution_count": null,
   "metadata": {
    "scrolled": true
   },
   "outputs": [],
   "source": [
    "for sample in samples:\n",
    "    f = open(\"/home/jimitcard/Desktop/OMR/sampled_1250/\"+sample+\"/\"+sample+\".semantic\", \"r\")\n",
    "    notes=f.read().strip().split(\"\\t\")\n",
    "    for note in notes:\n",
    "        sample_1250.loc[sample,note] +=1\n",
    "sample_1250.head()"
   ]
  },
  {
   "cell_type": "code",
   "execution_count": null,
   "metadata": {
    "scrolled": false
   },
   "outputs": [],
   "source": [
    "frequency_of_notes=sample_1250.sum(numeric_only=True, axis = 0, skipna = True) \n",
    "sorted_frequency=frequency_of_notes.sort_values(axis=0, ascending=False, inplace=False, kind='quicksort', na_position='last')\n",
    "sorted_frequency.describe()"
   ]
  },
  {
   "cell_type": "code",
   "execution_count": null,
   "metadata": {},
   "outputs": [],
   "source": [
    "sorted_frequency.tail(6)"
   ]
  },
  {
   "cell_type": "markdown",
   "metadata": {},
   "source": [
    "# Splitting the Dataset into Training and Testing"
   ]
  },
  {
   "cell_type": "code",
   "execution_count": null,
   "metadata": {},
   "outputs": [],
   "source": [
    "import random\n",
    "\n",
    "random.shuffle(samples)\n",
    "training_samples = samples[:1000]\n",
    "testing_samples = samples[1000:]"
   ]
  },
  {
   "cell_type": "markdown",
   "metadata": {},
   "source": [
    "## Training"
   ]
  },
  {
   "cell_type": "code",
   "execution_count": null,
   "metadata": {
    "scrolled": true
   },
   "outputs": [],
   "source": [
    "#now create a pandas with samples and vocab and populate for frequency\n",
    "training_1000 = pd.DataFrame(index=samples, columns=vocabulary)\n",
    "training_1000 = training_1000.fillna(0) # with 0s rather than NaNs\n",
    "training_1000.head()\n",
    "for sample in training_samples:\n",
    "    f = open(\"/home/jimitcard/Desktop/OMR/sampled_1250/\"+sample+\"/\"+sample+\".semantic\", \"r\")\n",
    "    notes=f.read().strip().split(\"\\t\")\n",
    "    for note in notes:\n",
    "        training_1000.loc[sample,note] +=1\n",
    "training_1000.head()"
   ]
  },
  {
   "cell_type": "code",
   "execution_count": null,
   "metadata": {},
   "outputs": [],
   "source": [
    "frequency_of_training_notes=training_1000.sum(numeric_only=True, axis = 0, skipna = True) \n",
    "sorted_frequency_of_training=frequency_of_training_notes.sort_values(axis=0, ascending=False, inplace=False, kind='quicksort', na_position='last')\n",
    "sorted_frequency_of_training.tail(6)"
   ]
  },
  {
   "cell_type": "markdown",
   "metadata": {},
   "source": [
    "## Testing"
   ]
  },
  {
   "cell_type": "code",
   "execution_count": null,
   "metadata": {
    "scrolled": true
   },
   "outputs": [],
   "source": [
    "#now create a pandas with samples and vocab and populate for frequency\n",
    "testing_250 = pd.DataFrame(index=samples, columns=vocabulary)\n",
    "testing_250 = testing_250.fillna(0) # with 0s rather than NaNs\n",
    "#testing_250.head()\n",
    "for sample in testing_samples:\n",
    "    f = open(\"/home/jimitcard/Desktop/OMR/sampled_1250/\"+sample+\"/\"+sample+\".semantic\", \"r\")\n",
    "    notes=f.read().strip().split(\"\\t\")\n",
    "    for note in notes:\n",
    "        testing_250.loc[sample,note] +=1\n",
    "testing_250.head()"
   ]
  },
  {
   "cell_type": "code",
   "execution_count": null,
   "metadata": {
    "scrolled": false
   },
   "outputs": [],
   "source": [
    "frequency_of_testing_notes=testing_250.sum(numeric_only=True, axis = 0, skipna = True) \n",
    "sorted_frequency_of_testing=frequency_of_testing_notes.sort_values(axis=0, ascending=False, inplace=False, kind='quicksort', na_position='last')\n",
    "sorted_frequency_of_testing.tail(15)"
   ]
  },
  {
   "cell_type": "markdown",
   "metadata": {},
   "source": [
    "### Exporting training and testing samples"
   ]
  },
  {
   "cell_type": "code",
   "execution_count": null,
   "metadata": {},
   "outputs": [],
   "source": [
    "f = open(\"/home/jimitcard/Desktop/OMR/data/training.txt\", 'w')\n",
    "for sample in training_samples:\n",
    "    f.write(sample+\"\\n\")\n",
    "f.close()"
   ]
  },
  {
   "cell_type": "code",
   "execution_count": null,
   "metadata": {},
   "outputs": [],
   "source": [
    "f = open(\"/home/jimitcard/Desktop/OMR/data/testing.txt\", 'w')\n",
    "for sample in testing_samples:\n",
    "    f.write(sample+\"\\n\")\n",
    "f.close()"
   ]
  },
  {
   "cell_type": "markdown",
   "metadata": {},
   "source": [
    "## Analyzing Training and Testing Dataset"
   ]
  },
  {
   "cell_type": "code",
   "execution_count": null,
   "metadata": {},
   "outputs": [],
   "source": [
    "print(\"sampled dataset\")\n",
    "print(sorted_frequency.describe())\n",
    "print(\"\\n\")\n",
    "\n",
    "print(\"training dataset\")\n",
    "print(sorted_frequency_of_training.describe())\n",
    "print(\"\\n\")\n",
    "\n",
    "print(\"testing dataset\")\n",
    "print(sorted_frequency_of_testing.describe())\n",
    "print(\"\\n\")\n"
   ]
  },
  {
   "cell_type": "markdown",
   "metadata": {},
   "source": [
    "## Visualizations of Training and Testing Dataset"
   ]
  },
  {
   "cell_type": "code",
   "execution_count": null,
   "metadata": {},
   "outputs": [],
   "source": [
    "#plotting bar graph with bins of different colors\n",
    "%matplotlib inline \n",
    "\n",
    "import matplotlib as mpl\n",
    "import matplotlib.pyplot as plt\n",
    "\n",
    "print ('Matplotlib version: ', mpl.__version__) # >= 2.0.0"
   ]
  },
  {
   "cell_type": "code",
   "execution_count": null,
   "metadata": {},
   "outputs": [],
   "source": [
    "SMALL_SIZE = 16\n",
    "MEDIUM_SIZE = 9\n",
    "BIGGER_SIZE = 14\n",
    "\n",
    "plt.rc('font', size=SMALL_SIZE)          # controls default text sizes\n",
    "plt.rc('axes', titlesize=SMALL_SIZE)     # fontsize of the axes title\n",
    "plt.rc('axes', labelsize=BIGGER_SIZE)    # fontsize of the x and y labels\n",
    "plt.rc('xtick', labelsize=MEDIUM_SIZE)    # fontsize of the tick labels\n",
    "plt.rc('ytick', labelsize=MEDIUM_SIZE)    # fontsize of the tick labels\n",
    "plt.rc('legend', fontsize=SMALL_SIZE)    # legend fontsize\n",
    "plt.rc('figure', titlesize=BIGGER_SIZE)  # fontsize of the figure title"
   ]
  },
  {
   "cell_type": "code",
   "execution_count": null,
   "metadata": {},
   "outputs": [],
   "source": [
    "f, ax = plt.subplots(figsize=(18,5)) # set the size that you'd like (width, height)\n",
    "\n",
    "sorted_frequency.plot(kind='line', label='Sampled Dataset')\n",
    "sorted_frequency_of_training.plot(kind='line', label='Training Dataset')\n",
    "sorted_frequency_of_testing.plot(kind='line', label='Testing Dataset')\n",
    "\n",
    "\n",
    "\n",
    "plt.title('Comparing Frequency Distribution of Notes in Sampled, Training & Testing Dataset')\n",
    "plt.ylabel('Frequency (Log Sacle)')\n",
    "plt.xlabel('Notes arranged in ascending order of frequency of occurrence')\n",
    "plt.xticks([])\n",
    "\n",
    "plt.plot((0,60),(10,10),label=\"Min. Sample Threshold\",linestyle='dashed')\n",
    "plt.legend()\n",
    "#plt.legend(bbox_to_anchor=(1.05, 1), loc='upper left', borderaxespad=0.)\n",
    "\n",
    "plt.savefig('testing_training.png')\n",
    "#plt.plot([5,0], [5,4500], 'k-')\n",
    "plt.yscale('log')\n",
    "#median\n",
    "#10-90\n",
    "plt.show()"
   ]
  },
  {
   "cell_type": "code",
   "execution_count": null,
   "metadata": {},
   "outputs": [],
   "source": [
    "f, ax = plt.subplots(figsize=(18,5)) # set the size that you'd like (width, height)\n",
    "sorted_frequency_of_training.plot(kind='line')\n",
    "\n",
    "plt.title('Frequency Distribution of Notes in Sampled Dataset')\n",
    "plt.ylabel('Frequency')\n",
    "plt.xlabel('Notes')\n",
    "plt.xticks([])\n",
    "\n",
    "#plt.savefig('frequencyVsNotes.png')\n",
    "#plt.plot([5,0], [5,4500], 'k-')\n",
    "#plt.yscale('log')\n",
    "#median\n",
    "#10-90\n",
    "plt.show()"
   ]
  },
  {
   "cell_type": "code",
   "execution_count": null,
   "metadata": {},
   "outputs": [],
   "source": [
    "f, ax = plt.subplots(figsize=(18,5)) # set the size that you'd like (width, height)\n",
    "sorted_frequency_of_testing.plot(kind='line')\n",
    "\n",
    "plt.title('Frequency Distribution of Notes in Sampled Dataset')\n",
    "plt.ylabel('Frequency')\n",
    "plt.xlabel('Notes')\n",
    "plt.xticks([])\n",
    "\n",
    "#plt.savefig('frequencyVsNotes.png')\n",
    "#plt.plot([5,0], [5,4500], 'k-')\n",
    "#plt.yscale('log')\n",
    "#median\n",
    "#10-90\n",
    "plt.show()"
   ]
  }
 ],
 "metadata": {
  "kernelspec": {
   "display_name": "Python 2",
   "language": "python",
   "name": "python2"
  },
  "language_info": {
   "codemirror_mode": {
    "name": "ipython",
    "version": 2
   },
   "file_extension": ".py",
   "mimetype": "text/x-python",
   "name": "python",
   "nbconvert_exporter": "python",
   "pygments_lexer": "ipython2",
   "version": "2.7.12"
  }
 },
 "nbformat": 4,
 "nbformat_minor": 2
}
